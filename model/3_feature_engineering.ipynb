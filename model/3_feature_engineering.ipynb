{
 "cells": [
  {
   "cell_type": "markdown",
   "id": "c5d02f30",
   "metadata": {},
   "source": [
    "\n",
    "### Ingeniería de variables para mejorar el modelo\n"
   ]
  },
  {
   "cell_type": "markdown",
   "id": "98957feb",
   "metadata": {},
   "source": [
    "----------"
   ]
  },
  {
   "cell_type": "code",
   "execution_count": 13,
   "id": "f941c7f4",
   "metadata": {},
   "outputs": [],
   "source": [
    "import pandas as pd\n",
    "import numpy as np\n",
    "\n",
    "# Cargar dataset limpio\n",
    "file_path = \"HR_Em_Attrition_Cleaned.csv\"\n",
    "df = pd.read_csv(file_path)"
   ]
  },
  {
   "cell_type": "code",
   "execution_count": 14,
   "id": "3c63060c",
   "metadata": {},
   "outputs": [],
   "source": [
    "# Codificación One-Hot solo para variables categóricas nominales\n",
    "\n",
    "nominal_vars = ['BusinessTravel', 'Department', 'EducationField', 'Gender', 'JobRole', 'MaritalStatus', 'OverTime']\n",
    "df_encoded = pd.get_dummies(df, columns=nominal_vars, drop_first=True)"
   ]
  },
  {
   "cell_type": "code",
   "execution_count": 15,
   "id": "890a991b",
   "metadata": {},
   "outputs": [],
   "source": [
    "#Convertir variables booleanas a enteros (0 y 1)\n",
    "\n",
    "df_encoded = df_encoded.astype({col: int for col in df_encoded.select_dtypes('bool').columns})\n"
   ]
  },
  {
   "cell_type": "code",
   "execution_count": 16,
   "id": "9869f369",
   "metadata": {},
   "outputs": [],
   "source": [
    "## Transformación logarítmica para ingreso mensual\n",
    "df_encoded['Log_MonthlyIncome'] = np.log1p(df_encoded['MonthlyIncome'])"
   ]
  },
  {
   "cell_type": "code",
   "execution_count": 17,
   "id": "61f2f93c",
   "metadata": {},
   "outputs": [],
   "source": [
    "#Eliminación de columna original de ingreso\n",
    "\n",
    "\n",
    "df_encoded.drop(columns=['MonthlyIncome'], inplace=True)\n"
   ]
  },
  {
   "cell_type": "code",
   "execution_count": 18,
   "id": "bd971635",
   "metadata": {},
   "outputs": [
    {
     "name": "stdout",
     "output_type": "stream",
     "text": [
      "Archivo guardado: HR_Em_Attrition_Engineered.csv\n"
     ]
    }
   ],
   "source": [
    "#Guardar dataset procesado para modelado posterior\n",
    "\n",
    "output_path = \"HR_Em_Attrition_Engineered.csv\"\n",
    "df_encoded.to_csv(output_path, index=False)\n",
    "print(f\"Archivo guardado: {output_path}\")\n"
   ]
  },
  {
   "cell_type": "code",
   "execution_count": 22,
   "id": "c13a9c8d",
   "metadata": {},
   "outputs": [
    {
     "name": "stdout",
     "output_type": "stream",
     "text": [
      "(1470, 45)\n",
      "   Age  Attrition  DailyRate  DistanceFromHome  Education  \\\n",
      "0   41          1       1102                 1          2   \n",
      "1   49          0        279                 8          1   \n",
      "2   37          1       1373                 2          2   \n",
      "3   33          0       1392                 3          4   \n",
      "4   27          0        591                 2          1   \n",
      "\n",
      "   EnvironmentSatisfaction  HourlyRate  JobInvolvement  JobLevel  \\\n",
      "0                        2          94               3         2   \n",
      "1                        3          61               2         2   \n",
      "2                        4          92               2         1   \n",
      "3                        4          56               3         1   \n",
      "4                        1          40               3         1   \n",
      "\n",
      "   JobSatisfaction  ...  JobRole_Manager  JobRole_Manufacturing Director  \\\n",
      "0                4  ...                0                               0   \n",
      "1                2  ...                0                               0   \n",
      "2                3  ...                0                               0   \n",
      "3                3  ...                0                               0   \n",
      "4                2  ...                0                               0   \n",
      "\n",
      "   JobRole_Research Director  JobRole_Research Scientist  \\\n",
      "0                          0                           0   \n",
      "1                          0                           1   \n",
      "2                          0                           0   \n",
      "3                          0                           1   \n",
      "4                          0                           0   \n",
      "\n",
      "   JobRole_Sales Executive  JobRole_Sales Representative  \\\n",
      "0                        1                             0   \n",
      "1                        0                             0   \n",
      "2                        0                             0   \n",
      "3                        0                             0   \n",
      "4                        0                             0   \n",
      "\n",
      "   MaritalStatus_Married  MaritalStatus_Single  OverTime_Yes  \\\n",
      "0                      0                     1             1   \n",
      "1                      1                     0             0   \n",
      "2                      0                     1             1   \n",
      "3                      1                     0             1   \n",
      "4                      1                     0             0   \n",
      "\n",
      "   Log_MonthlyIncome  \n",
      "0           8.698514  \n",
      "1           8.543056  \n",
      "2           7.645398  \n",
      "3           7.975908  \n",
      "4           8.151622  \n",
      "\n",
      "[5 rows x 45 columns]\n"
     ]
    }
   ],
   "source": [
    "df = pd.read_csv('HR_Em_Attrition_Engineered.csv')\n",
    "\n",
    "print(df.shape)\n",
    "\n",
    "print(df.head())"
   ]
  }
 ],
 "metadata": {
  "kernelspec": {
   "display_name": "Python 3",
   "language": "python",
   "name": "python3"
  },
  "language_info": {
   "codemirror_mode": {
    "name": "ipython",
    "version": 3
   },
   "file_extension": ".py",
   "mimetype": "text/x-python",
   "name": "python",
   "nbconvert_exporter": "python",
   "pygments_lexer": "ipython3",
   "version": "3.12.5"
  }
 },
 "nbformat": 4,
 "nbformat_minor": 5
}
