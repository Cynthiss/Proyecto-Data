{
 "cells": [
  {
   "cell_type": "markdown",
   "id": "147a927d",
   "metadata": {},
   "source": []
  },
  {
   "cell_type": "markdown",
   "id": "fae95495",
   "metadata": {},
   "source": [
    "# EDA - Análisis Exploratorio de Datos para Rotación de Empleados\n",
    "\n",
    "Análisis Exploratorio de Datos (EDA)\n",
    "Este notebook explora el dataset de rotación de empleados de IBM para identificar patrones que expliquen la probabilidad de que un empleado abandone la empresa.\n"
   ]
  },
  {
   "cell_type": "markdown",
   "id": "d292770f",
   "metadata": {},
   "source": [
    "### Pregunta 1:\n",
    "¿Qué impacto tiene el ingreso mensual (`MonthlyIncome`) combinado con el nivel del puesto (`JobLevel`) en la retención del personal?"
   ]
  }
 ],
 "metadata": {
  "language_info": {
   "name": "python"
  }
 },
 "nbformat": 4,
 "nbformat_minor": 5
}
